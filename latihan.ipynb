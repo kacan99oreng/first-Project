{
 "cells": [
  {
   "cell_type": "code",
   "execution_count": null,
   "metadata": {},
   "outputs": [],
   "source": [
    "'''1'''\n",
    "\n",
    "def cari_nilai_tertinggi():\n",
    "    # Fungsi untuk mengumpulkan dan mencari nilai tertinggi\n",
    "    nilai = []\n",
    "    for i in range(4):\n",
    "        while True:\n",
    "            try:\n",
    "                # Input nilai dengan validasi 0-100\n",
    "                input_nilai = float(input(f\"Nilai Mahasiswa ke-{i+1}: \"))\n",
    "                if 0 <= input_nilai <= 100:\n",
    "                    nilai.append(input_nilai)\n",
    "                    break\n",
    "                else:\n",
    "                    print(\"Nilai harus antara 0-100\")\n",
    "            except ValueError:\n",
    "                # Tangani input tidak valid\n",
    "                print(\"Masukkan nilai yang valid\")\n",
    "    # Temukan nilai tertinggi\n",
    "    nilai_tertinggi = max(nilai)\n",
    "    # Tampilkan semua nilai\n",
    "    print(\"\\nNilai-nilai ujian:\")\n",
    "    for i, n in enumerate(nilai):\n",
    "        print(f\"Nilai Mahasiswa ke-{i+1}: {n}\")\n",
    "    # Tampilkan nilai tertinggi\n",
    "    print(f\"\\nNilai tertinggi: {nilai_tertinggi}\")\n",
    "    # Kembalikan nilai tertinggi\n",
    "    return nilai_tertinggi\n",
    "# Panggil fungsi\n",
    "cari_nilai_tertinggi()"
   ]
  },
  {
   "cell_type": "code",
   "execution_count": null,
   "metadata": {},
   "outputs": [
    {
     "name": "stdout",
     "output_type": "stream",
     "text": [
      "Nilai tertinggi: 57.0\n",
      "Banyak nilai tertinggi: 1\n"
     ]
    }
   ],
   "source": [
    "'''2'''\n",
    "\n",
    "def nilai_mahasiswa():\n",
    "    # Fungsi untuk mengumpulkan 7 nilai mahasiswa\n",
    "    nilai = []\n",
    "    for i in range(7):\n",
    "        while True:\n",
    "            try:\n",
    "                # Input nilai dengan validasi 0-100\n",
    "                data_nilai = float(input(f\"Nilai mahasiswa ke-{i+1}: \"))\n",
    "                if 0 <= data_nilai <= 100:\n",
    "                    nilai.append(data_nilai)\n",
    "                    break\n",
    "                else:\n",
    "                    print(\"Nilai harus antara 0-100\")\n",
    "            except ValueError:\n",
    "                # Tangani input tidak valid\n",
    "                print(\"Masukkan nilai yang valid\")\n",
    "    return nilai\n",
    "# Dapatkan daftar nilai\n",
    "x = nilai_mahasiswa()\n",
    "# Cari nilai tertinggi\n",
    "nilai_tertinggi = max(x)\n",
    "# Hitung berapa kali nilai tertinggi muncul\n",
    "jumlah_tertinggi = x.count(nilai_tertinggi)\n",
    "# Tampilkan hasil\n",
    "print(f\"Nilai tertinggi: {nilai_tertinggi}\")\n",
    "print(f\"Banyak nilai tertinggi: {jumlah_tertinggi}\")"
   ]
  },
  {
   "cell_type": "code",
   "execution_count": 2,
   "metadata": {},
   "outputs": [
    {
     "name": "stdout",
     "output_type": "stream",
     "text": [
      "Nilai ujian mahasiswa.\n",
      "\n",
      "Nilai tertinggi: 90.0\n",
      "Nilai terendah: 12.0\n"
     ]
    }
   ],
   "source": [
    "'''3'''\n",
    "\n",
    "\n",
    "print(\"Nilai ujian mahasiswa.\\n\")\n",
    "def nilai_ujian():\n",
    "    # Fungsi untuk mengumpulkan 10 nilai mahasiswa\n",
    "    nilai = []\n",
    "    for i in range(10):\n",
    "        while True:\n",
    "            try:\n",
    "                # Input nilai dengan validasi 0-100\n",
    "                skor = float(input(f\"Masukkan nilai mahasiswa ke-{i+1}: \"))\n",
    "                if 0 <= skor <= 100:\n",
    "                    nilai.append(skor)\n",
    "                    break\n",
    "                else:\n",
    "                    print(\"Tolong input nilai 0-100\")\n",
    "            except ValueError:\n",
    "                # Tangani input tidak valid\n",
    "                print(\"Tolong input yang valid!\")\n",
    "    return nilai\n",
    "# Dapatkan daftar nilai\n",
    "x = nilai_ujian()\n",
    "# Cari nilai tertinggi dan terendah\n",
    "tertinggi = max(x)\n",
    "terendah = min(x)\n",
    "# Tampilkan hasil\n",
    "print(f\"Nilai tertinggi: {tertinggi}\")\n",
    "print(f\"Nilai terendah: {terendah}\")"
   ]
  }
 ],
 "metadata": {
  "kernelspec": {
   "display_name": "Python 3",
   "language": "python",
   "name": "python3"
  },
  "language_info": {
   "codemirror_mode": {
    "name": "ipython",
    "version": 3
   },
   "file_extension": ".py",
   "mimetype": "text/x-python",
   "name": "python",
   "nbconvert_exporter": "python",
   "pygments_lexer": "ipython3",
   "version": "3.12.5"
  }
 },
 "nbformat": 4,
 "nbformat_minor": 2
}
